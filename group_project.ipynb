{
 "cells": [
  {
   "cell_type": "code",
   "execution_count": null,
   "metadata": {},
   "outputs": [],
   "source": [
    "name = input(\"Enter your name.\")\n",
    "age = int(input(\"Enter your age.\"))\n",
    "\n",
    "if age >= 21:\n",
    "    print(\"You are an adult and can legally gamble, buy alcohol, and much more!\")\n",
    "elif age >= 18:\n",
    "    print(\"You are an adult but cannot gamble and do other things yet. But you can go to war!\")\n",
    "else:\n",
    "    print(\"You are not yet an adult.\")"
   ]
  }
 ],
 "metadata": {
  "kernelspec": {
   "display_name": "Python 3",
   "language": "python",
   "name": "python3"
  },
  "language_info": {
   "codemirror_mode": {
    "name": "ipython",
    "version": 3
   },
   "file_extension": ".py",
   "mimetype": "text/x-python",
   "name": "python",
   "nbconvert_exporter": "python",
   "pygments_lexer": "ipython3",
   "version": "3.8.3"
  }
 },
 "nbformat": 4,
 "nbformat_minor": 4
}
